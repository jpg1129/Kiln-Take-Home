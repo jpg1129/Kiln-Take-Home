{
 "cells": [
  {
   "cell_type": "code",
   "execution_count": 41,
   "metadata": {},
   "outputs": [],
   "source": [
    "from dotenv import load_dotenv\n",
    "import numpy as np \n",
    "import requests \n",
    "import pandas as pd\n",
    "from helpers import api_data_fetcher\n",
    "import os\n",
    "import importlib\n",
    "\n",
    "importlib.reload(api_data_fetcher)\n",
    "\n",
    "## Load environment variables from .env file\n",
    "load_dotenv()\n",
    "\n",
    "kiln_api_key = os.getenv(\"kiln_api_key\")\n",
    "kiln_host = os.getenv(\"kiln_host\")\n",
    "\n"
   ]
  },
  {
   "cell_type": "code",
   "execution_count": 42,
   "metadata": {},
   "outputs": [
    {
     "name": "stdout",
     "output_type": "stream",
     "text": [
      "Data fetched from https://api.testnet.kiln.fi/v1/eth/stakes and saved to kiln_stakes.csv\n"
     ]
    }
   ],
   "source": [
    "# Make request to kiln and store all kiln validator stake information in a csv file\n",
    "stakes_base_url = f\"{kiln_host}/v1/eth/stakes\"\n",
    "\n",
    "params = {\n",
    "    \"scope\": \"kiln\",\n",
    "    \"page_size\": 100\n",
    "}\n",
    "\n",
    "headers = {\"Authorization\": f\"Bearer {kiln_api_key}\"}\n",
    "res = api_data_fetcher.fetch_all_pages(stakes_base_url, params, headers, \"kiln_stakes.csv\")\n",
    "\n"
   ]
  },
  {
   "cell_type": "markdown",
   "metadata": {},
   "source": []
  },
  {
   "cell_type": "code",
   "execution_count": 46,
   "metadata": {},
   "outputs": [
    {
     "name": "stdout",
     "output_type": "stream",
     "text": [
      "   0\n",
      "0  1\n",
      "1  2\n",
      "2  3\n",
      "3  4\n",
      "4  5\n",
      "5  6\n",
      "   0\n",
      "0  1\n",
      "1  2\n",
      "2  3\n",
      "0  0\n",
      "0  1\n",
      "0  2\n",
      "0  3\n",
      "0  4\n"
     ]
    }
   ],
   "source": [
    "a = pd.DataFrame([1, 2, 3,])\n",
    "b = pd.DataFrame([4, 5, 6,])\n",
    "c = pd.concat([a, b], ignore_index=True)\n",
    "for i in range(5):\n",
    "    c = pd.DataFrame([i])\n",
    "    a = pd.concat([a, c], ignore_index=False)\n",
    "print(a)"
   ]
  },
  {
   "cell_type": "code",
   "execution_count": null,
   "metadata": {},
   "outputs": [],
   "source": []
  }
 ],
 "metadata": {
  "kernelspec": {
   "display_name": "Python 3",
   "language": "python",
   "name": "python3"
  },
  "language_info": {
   "codemirror_mode": {
    "name": "ipython",
    "version": 3
   },
   "file_extension": ".py",
   "mimetype": "text/x-python",
   "name": "python",
   "nbconvert_exporter": "python",
   "pygments_lexer": "ipython3",
   "version": "3.10.0"
  }
 },
 "nbformat": 4,
 "nbformat_minor": 2
}
